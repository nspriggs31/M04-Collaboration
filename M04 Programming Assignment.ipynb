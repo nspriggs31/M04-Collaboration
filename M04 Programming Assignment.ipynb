{
 "cells": [
  {
   "cell_type": "markdown",
   "id": "aa6862b7-dad5-4ec7-bb1c-2f5bdb14d68d",
   "metadata": {},
   "source": [
    "11.1"
   ]
  },
  {
   "cell_type": "code",
   "execution_count": 29,
   "id": "e5da1b24-88ff-4e0c-b10c-4dbf45ddbfaa",
   "metadata": {},
   "outputs": [
    {
     "name": "stdout",
     "output_type": "stream",
     "text": [
      "Overwriting zoo.py\n"
     ]
    }
   ],
   "source": [
    "%%writefile zoo.py\n",
    "def hours():\n",
    "    print(\"Open 9-5 daily\")"
   ]
  },
  {
   "cell_type": "code",
   "execution_count": 12,
   "id": "d40f1f05-43e7-4521-a2df-5f618ad05e6a",
   "metadata": {},
   "outputs": [
    {
     "name": "stdout",
     "output_type": "stream",
     "text": [
      "Open 9-5 daily\n"
     ]
    }
   ],
   "source": [
    "import zoo\n",
    "zoo.hours()"
   ]
  },
  {
   "cell_type": "markdown",
   "id": "b38c3062-45f0-45df-b603-e253ed4a7b0f",
   "metadata": {},
   "source": [
    "11.2"
   ]
  },
  {
   "cell_type": "code",
   "execution_count": 9,
   "id": "30aaf4ca-769b-4e19-958f-aa80c4bb1e67",
   "metadata": {},
   "outputs": [],
   "source": [
    "import zoo as menagerie"
   ]
  },
  {
   "cell_type": "code",
   "execution_count": 11,
   "id": "fac55f23-e597-438e-9589-73e14b8d8625",
   "metadata": {},
   "outputs": [
    {
     "name": "stdout",
     "output_type": "stream",
     "text": [
      "Open 9-5 daily\n"
     ]
    }
   ],
   "source": [
    "menagerie.hours()"
   ]
  },
  {
   "cell_type": "markdown",
   "id": "982fc836-6453-45c2-9a16-38eedd2fae9e",
   "metadata": {},
   "source": [
    "16.8"
   ]
  },
  {
   "cell_type": "code",
   "execution_count": 33,
   "id": "b2688145-a1d3-495d-bca4-d0837864c971",
   "metadata": {},
   "outputs": [
    {
     "data": {
      "text/plain": [
       "<sqlite3.Cursor at 0x10c1d4a40>"
      ]
     },
     "execution_count": 33,
     "metadata": {},
     "output_type": "execute_result"
    }
   ],
   "source": [
    "import sqlite3\n",
    "conn = sqlite3.connect('books2.db')\n",
    "curs = conn.cursor()\n",
    "curs.execute('''CREATE TABLE books(title STR, author STR, year INT)''')"
   ]
  },
  {
   "cell_type": "code",
   "execution_count": 45,
   "id": "bda309e1-7e9f-47c6-a36f-89c231fbf0c2",
   "metadata": {},
   "outputs": [],
   "source": [
    "import csv\n",
    "books2 = [\n",
    "    ['title', 'author', 'year'],\n",
    "    ['The Weirdstone of Brisingamen', 'Alan Garner', '1960'],\n",
    "    ['Perdido Street Station', 'China Mieville', '2000'],\n",
    "    ['Thud!', 'Terry Pratchett', '2005'],\n",
    "    ['The Spellman Files', 'Lisa Lutz', '2007'],\n",
    "    ['Small Gods', 'Terry Pratchett', '1992'],\n",
    "]\n",
    "with open('books2', 'wt') as fout:\n",
    "    csvout = csv.writer(fout)\n",
    "    csvout.writerows(books2)"
   ]
  },
  {
   "cell_type": "code",
   "execution_count": 49,
   "id": "5d98225d-cffe-4b30-a70c-441f8c8dadaf",
   "metadata": {},
   "outputs": [
    {
     "name": "stdout",
     "output_type": "stream",
     "text": [
      "[['title', 'author', 'year'], ['The Weirdstone of Brisingamen', 'Alan Garner', '1960'], ['Perdido Street Station', 'China Mieville', '2000'], ['Thud!', 'Terry Pratchett', '2005'], ['The Spellman Files', 'Lisa Lutz', '2007'], ['Small Gods', 'Terry Pratchett', '1992']]\n"
     ]
    }
   ],
   "source": [
    "import csv\n",
    "with open('books2', 'rt') as fin:\n",
    "    cin = csv.reader(fin)\n",
    "    books2 = [row for row in cin]\n",
    "print(books2)"
   ]
  },
  {
   "cell_type": "code",
   "execution_count": null,
   "id": "6d236057-37fa-4d71-9d03-674cb9b71eda",
   "metadata": {},
   "outputs": [],
   "source": []
  }
 ],
 "metadata": {
  "kernelspec": {
   "display_name": "Python 3 (ipykernel)",
   "language": "python",
   "name": "python3"
  },
  "language_info": {
   "codemirror_mode": {
    "name": "ipython",
    "version": 3
   },
   "file_extension": ".py",
   "mimetype": "text/x-python",
   "name": "python",
   "nbconvert_exporter": "python",
   "pygments_lexer": "ipython3",
   "version": "3.11.7"
  }
 },
 "nbformat": 4,
 "nbformat_minor": 5
}
